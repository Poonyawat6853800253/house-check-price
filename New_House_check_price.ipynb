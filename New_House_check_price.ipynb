{
 "cells": [
  {
   "cell_type": "code",
   "execution_count": 1,
   "id": "68d912e2",
   "metadata": {},
   "outputs": [
    {
     "name": "stdout",
     "output_type": "stream",
     "text": [
      "Shape: (1460, 78)\n",
      "Columns: 78\n"
     ]
    }
   ],
   "source": [
    "import pandas as pd\n",
    "from sklearn.model_selection import train_test_split\n",
    "from sklearn.compose import ColumnTransformer\n",
    "from sklearn.preprocessing import OneHotEncoder, StandardScaler\n",
    "from sklearn.pipeline import Pipeline\n",
    "from sklearn.impute import SimpleImputer\n",
    "from sklearn.linear_model import RidgeCV\n",
    "from sklearn.metrics import mean_absolute_error, mean_squared_error, r2_score\n",
    "import numpy as np\n",
    "import joblib\n",
    "\n",
    "# โหลดข้อมูล\n",
    "train_df = pd.read_csv(\"train_cleaned.csv\")\n",
    "\n",
    "print(\"Shape:\", train_df.shape)\n",
    "print(\"Columns:\", len(train_df.columns))\n"
   ]
  },
  {
   "cell_type": "code",
   "execution_count": 2,
   "id": "01c13634",
   "metadata": {},
   "outputs": [],
   "source": [
    "selected_features = [\n",
    "    'OverallQual', 'GrLivArea', 'TotalBsmtSF', '1stFlrSF', '2ndFlrSF',\n",
    "    'GarageCars', 'YearBuilt', 'YearRemodAdd', 'FullBath', 'BsmtQual',\n",
    "    'KitchenQual', 'Neighborhood', 'LotArea', 'Fireplaces'\n",
    "]\n",
    "target = 'SalePrice'\n",
    "\n",
    "X = train_df[selected_features]\n",
    "y = train_df[target]\n",
    "\n",
    "# ✅ STEP: Create Price Category Groups\n",
    "# Convert continuous SalePrice into groups (classification)\n",
    "bins = [0, 50000, 100000, 150000, 200000, 250000, 500000, 1000000]\n",
    "labels = ['<50k', '50-100k', '100-150k', '150-200k', '200-250k', '250-500k', '500k+']\n",
    "\n",
    "X = train_df[selected_features]\n",
    "y = pd.cut(train_df['SalePrice'], bins=bins, labels=labels)\n",
    "\n"
   ]
  },
  {
   "cell_type": "code",
   "execution_count": 3,
   "id": "c733f4a0",
   "metadata": {},
   "outputs": [],
   "source": [
    "X_train, X_test, y_train, y_test = train_test_split(\n",
    "    X, y, test_size=0.2, random_state=42\n",
    ")\n"
   ]
  },
  {
   "cell_type": "code",
   "execution_count": 4,
   "id": "f8e2d034",
   "metadata": {},
   "outputs": [],
   "source": [
    "from sklearn.preprocessing import OrdinalEncoder\n",
    "\n",
    "# แบ่งชนิดของข้อมูล\n",
    "numeric_features = [\n",
    "    'GrLivArea', 'TotalBsmtSF', '1stFlrSF', '2ndFlrSF',\n",
    "    'GarageCars', 'YearBuilt', 'YearRemodAdd', 'FullBath', 'LotArea', 'Fireplaces'\n",
    "]\n",
    "categorical_features = ['OverallQual', 'BsmtQual', 'KitchenQual', 'Neighborhood']\n",
    "\n",
    "# ตัวแปลงข้อมูลตัวเลข\n",
    "numeric_transformer = Pipeline(steps=[\n",
    "    ('imputer', SimpleImputer(strategy='median')),\n",
    "    ('scaler', StandardScaler())\n",
    "])\n",
    "\n",
    "# ตัวแปลงข้อมูลหมวดหมู่\n",
    "categorical_transformer = Pipeline(steps=[\n",
    "    ('imputer', SimpleImputer(strategy='most_frequent')),\n",
    "    ('encoder', OneHotEncoder(handle_unknown='ignore'))\n",
    "])\n",
    "\n",
    "# รวมทั้งหมดใน ColumnTransformer\n",
    "preprocessor = ColumnTransformer(\n",
    "    transformers=[\n",
    "        ('num', numeric_transformer, numeric_features),\n",
    "        ('cat', categorical_transformer, categorical_features)\n",
    "    ]\n",
    ")\n",
    "\n",
    "# สร้าง pipeline รวมทั้งหมด\n",
    "model = RidgeCV(alphas=[0.1, 1.0, 10.0], cv=5)\n",
    "pipeline = Pipeline(steps=[('preprocessor', preprocessor),\n",
    "                           ('model', model)])\n"
   ]
  },
  {
   "cell_type": "code",
   "execution_count": 10,
   "id": "274148d7",
   "metadata": {},
   "outputs": [
    {
     "name": "stdout",
     "output_type": "stream",
     "text": [
      "จำนวน features หลัง encode: 53\n",
      "ตัวอย่าง feature: ['num__GrLivArea', 'num__TotalBsmtSF', 'num__1stFlrSF', 'num__2ndFlrSF', 'num__GarageCars', 'num__YearBuilt', 'num__YearRemodAdd', 'num__FullBath', 'num__LotArea', 'num__Fireplaces', 'cat__OverallQual_1', 'cat__OverallQual_2', 'cat__OverallQual_3', 'cat__OverallQual_4', 'cat__OverallQual_5', 'cat__OverallQual_6', 'cat__OverallQual_7', 'cat__OverallQual_8', 'cat__OverallQual_9', 'cat__OverallQual_10']\n"
     ]
    }
   ],
   "source": [
    "feature_names = list(pipeline.named_steps['preprocessor'].get_feature_names_out())\n",
    "print(\"จำนวน features หลัง encode:\", len(feature_names))\n",
    "print(\"ตัวอย่าง feature:\", feature_names[:20])\n"
   ]
  },
  {
   "cell_type": "code",
   "execution_count": 11,
   "id": "0e1e96be",
   "metadata": {},
   "outputs": [],
   "source": [
    "model = RidgeCV(alphas=[0.1, 1.0, 10.0], cv=5)\n",
    "pipeline = Pipeline(steps=[('preprocessor', preprocessor),\n",
    "                           ('model', model)])"
   ]
  },
  {
   "cell_type": "code",
   "execution_count": 15,
   "id": "96d11991",
   "metadata": {},
   "outputs": [],
   "source": [
    "from sklearn.ensemble import RandomForestClassifier\n",
    "\n",
    "model = RandomForestClassifier(\n",
    "    n_estimators=200,\n",
    "    max_depth=10,\n",
    "    random_state=42\n",
    ")\n",
    "\n",
    "\n",
    "pipeline = Pipeline(steps=[\n",
    "    ('preprocessor', preprocessor),\n",
    "    ('model', model)\n",
    "])"
   ]
  },
  {
   "cell_type": "code",
   "execution_count": 16,
   "id": "849cec32",
   "metadata": {},
   "outputs": [],
   "source": [
    "pipeline.fit(X_train, y_train)\n",
    "y_train_pred = pipeline.predict(X_train)\n",
    "y_test_pred = pipeline.predict(X_test)\n"
   ]
  },
  {
   "cell_type": "code",
   "execution_count": 17,
   "id": "88640c39",
   "metadata": {},
   "outputs": [
    {
     "name": "stdout",
     "output_type": "stream",
     "text": [
      "Accuracy: 0.7568493150684932\n",
      "\n",
      "Classification Report:\n",
      "               precision    recall  f1-score   support\n",
      "\n",
      "    100-150k       0.80      0.94      0.86       113\n",
      "    150-200k       0.73      0.72      0.72        71\n",
      "    200-250k       0.50      0.59      0.54        34\n",
      "    250-500k       0.91      0.69      0.78        45\n",
      "     50-100k       0.86      0.50      0.63        24\n",
      "       500k+       1.00      0.33      0.50         3\n",
      "        <50k       0.00      0.00      0.00         2\n",
      "\n",
      "    accuracy                           0.76       292\n",
      "   macro avg       0.68      0.54      0.58       292\n",
      "weighted avg       0.77      0.76      0.75       292\n",
      "\n"
     ]
    },
    {
     "name": "stderr",
     "output_type": "stream",
     "text": [
      "c:\\Users\\NBODT\\AppData\\Local\\Programs\\Python\\Python313\\Lib\\site-packages\\sklearn\\metrics\\_classification.py:1731: UndefinedMetricWarning: Precision is ill-defined and being set to 0.0 in labels with no predicted samples. Use `zero_division` parameter to control this behavior.\n",
      "  _warn_prf(average, modifier, f\"{metric.capitalize()} is\", result.shape[0])\n",
      "c:\\Users\\NBODT\\AppData\\Local\\Programs\\Python\\Python313\\Lib\\site-packages\\sklearn\\metrics\\_classification.py:1731: UndefinedMetricWarning: Precision is ill-defined and being set to 0.0 in labels with no predicted samples. Use `zero_division` parameter to control this behavior.\n",
      "  _warn_prf(average, modifier, f\"{metric.capitalize()} is\", result.shape[0])\n",
      "c:\\Users\\NBODT\\AppData\\Local\\Programs\\Python\\Python313\\Lib\\site-packages\\sklearn\\metrics\\_classification.py:1731: UndefinedMetricWarning: Precision is ill-defined and being set to 0.0 in labels with no predicted samples. Use `zero_division` parameter to control this behavior.\n",
      "  _warn_prf(average, modifier, f\"{metric.capitalize()} is\", result.shape[0])\n"
     ]
    }
   ],
   "source": [
    "from sklearn.metrics import accuracy_score, classification_report\n",
    "\n",
    "print(\"Accuracy:\", accuracy_score(y_test, y_test_pred))\n",
    "print(\"\\nClassification Report:\\n\", classification_report(y_test, y_test_pred))\n"
   ]
  },
  {
   "cell_type": "code",
   "execution_count": 18,
   "id": "0540a405",
   "metadata": {},
   "outputs": [
    {
     "name": "stdout",
     "output_type": "stream",
     "text": [
      "✅ บันทึกโมเดลใหม่เรียบร้อยแล้ว\n"
     ]
    }
   ],
   "source": [
    "joblib.dump(pipeline, \"house_price_pipeline_new.joblib\")\n",
    "print(\"✅ บันทึกโมเดลใหม่เรียบร้อยแล้ว\")\n"
   ]
  },
  {
   "cell_type": "code",
   "execution_count": 19,
   "id": "a2edd591",
   "metadata": {},
   "outputs": [
    {
     "name": "stdout",
     "output_type": "stream",
     "text": [
      "\n",
      "🔎 Checking file: house_price_pipeline.pkl\n",
      "✅ File loaded successfully!\n",
      "📦 Object type: <class 'sklearn.linear_model._base.LinearRegression'>\n",
      "\n",
      "⚙️ This object is not a Pipeline.\n",
      "Model parameters:\n",
      "   copy_X: True\n",
      "   fit_intercept: True\n",
      "   n_jobs: None\n",
      "   positive: False\n",
      "   tol: 1e-06\n",
      "\n",
      "🔎 Checking file: house_price_pipeline.joblib\n",
      "✅ File loaded successfully!\n",
      "📦 Object type: <class 'sklearn.pipeline.Pipeline'>\n",
      "\n",
      "🧱 Pipeline Steps:\n",
      "  - preprocess: <class 'sklearn.compose._column_transformer.ColumnTransformer'>\n",
      "  - reg: <class 'sklearn.compose._target.TransformedTargetRegressor'>\n"
     ]
    }
   ],
   "source": [
    "import joblib\n",
    "import inspect\n",
    "\n",
    "def inspect_model(file_path):\n",
    "    print(f\"\\n🔎 Checking file: {file_path}\")\n",
    "    try:\n",
    "        model = joblib.load(file_path)\n",
    "        print(\"✅ File loaded successfully!\")\n",
    "        print(\"📦 Object type:\", type(model))\n",
    "        \n",
    "        # ถ้าเป็น Pipeline\n",
    "        if hasattr(model, 'named_steps'):\n",
    "            print(\"\\n🧱 Pipeline Steps:\")\n",
    "            for step_name, step_obj in model.named_steps.items():\n",
    "                print(f\"  - {step_name}: {type(step_obj)}\")\n",
    "            \n",
    "            # ถ้ามี preprocessor\n",
    "            if 'preprocessor' in model.named_steps:\n",
    "                pre = model.named_steps['preprocessor']\n",
    "                if hasattr(pre, 'transformers'):\n",
    "                    print(\"\\n📊 Transformers in preprocessor:\")\n",
    "                    for name, transformer, cols in pre.transformers:\n",
    "                        print(f\"  • {name}: {type(transformer)} (columns: {cols})\")\n",
    "            \n",
    "            # ถ้ามี model\n",
    "            if 'model' in model.named_steps:\n",
    "                print(\"\\n🤖 Model details:\")\n",
    "                mdl = model.named_steps['model']\n",
    "                print(\"  - Model type:\", type(mdl))\n",
    "                if hasattr(mdl, 'get_params'):\n",
    "                    print(\"  - Model parameters:\")\n",
    "                    for k, v in list(mdl.get_params().items())[:10]:\n",
    "                        print(f\"     {k}: {v}\")\n",
    "        \n",
    "        # ถ้าไม่ใช่ pipeline\n",
    "        else:\n",
    "            print(\"\\n⚙️ This object is not a Pipeline.\")\n",
    "            if hasattr(model, 'get_params'):\n",
    "                print(\"Model parameters:\")\n",
    "                for k, v in list(model.get_params().items())[:10]:\n",
    "                    print(f\"   {k}: {v}\")\n",
    "        \n",
    "    except Exception as e:\n",
    "        print(\"❌ Error loading file:\", e)\n",
    "\n",
    "\n",
    "# 🔹 เรียกใช้ตรวจสอบทั้งสองไฟล์\n",
    "inspect_model(\"house_price_pipeline.pkl\")\n",
    "inspect_model(\"house_price_pipeline.joblib\")\n"
   ]
  },
  {
   "cell_type": "markdown",
   "id": "a58eabb4",
   "metadata": {},
   "source": [
    "***Train 10 Model***"
   ]
  },
  {
   "cell_type": "code",
   "execution_count": 20,
   "id": "ad95b07b",
   "metadata": {},
   "outputs": [
    {
     "name": "stdout",
     "output_type": "stream",
     "text": [
      "10-fold R^2: mean=0.793, std=0.095\n",
      "Train R^2: 0.808\n",
      "Test  R^2: 0.834\n",
      "MAE: 21798.35\n",
      "RMSE: 35685.43\n",
      "✅ Saved: house_price_pipeline_9f_cv10.joblib\n",
      "Features after transform: 33\n",
      "['num__OverallQual' 'num__TotalBsmtSF' 'num__LotArea' 'num__GarageCars'\n",
      " 'num__Fireplaces' 'num__BedroomAbvGr' 'num__GrLivArea' 'num__FullBath'\n",
      " 'cat__Neighborhood_Blmngtn' 'cat__Neighborhood_Blueste'\n",
      " 'cat__Neighborhood_BrDale' 'cat__Neighborhood_BrkSide'\n",
      " 'cat__Neighborhood_ClearCr' 'cat__Neighborhood_CollgCr'\n",
      " 'cat__Neighborhood_Crawfor']\n"
     ]
    }
   ],
   "source": [
    "# 0) Imports\n",
    "import pandas as pd\n",
    "import numpy as np\n",
    "\n",
    "from sklearn.model_selection import KFold, cross_val_score, train_test_split\n",
    "from sklearn.compose import ColumnTransformer\n",
    "from sklearn.preprocessing import OneHotEncoder, StandardScaler\n",
    "from sklearn.pipeline import Pipeline\n",
    "from sklearn.impute import SimpleImputer\n",
    "from sklearn.linear_model import RidgeCV\n",
    "from sklearn.metrics import r2_score, mean_absolute_error, mean_squared_error\n",
    "import joblib\n",
    "\n",
    "# 1) Load data\n",
    "df = pd.read_csv(\"train_cleaned.csv\")\n",
    "\n",
    "# 2) Define features/target (SalePrice = target)\n",
    "feature_cols = [\n",
    "    \"OverallQual\",\n",
    "    \"TotalBsmtSF\",\n",
    "    \"LotArea\",\n",
    "    \"GarageCars\",\n",
    "    \"Fireplaces\",\n",
    "    \"BedroomAbvGr\",\n",
    "    \"Neighborhood\",\n",
    "    \"GrLivArea\",\n",
    "    \"FullBath\",\n",
    "]\n",
    "target_col = \"SalePrice\"\n",
    "\n",
    "X = df[feature_cols].copy()\n",
    "y = df[target_col].astype(float)\n",
    "\n",
    "# 3) Enforce dtypes (สำคัญมากสำหรับ front-end)\n",
    "numeric_int_cols = [\n",
    "    \"OverallQual\", \"TotalBsmtSF\", \"LotArea\", \"GarageCars\",\n",
    "    \"Fireplaces\", \"BedroomAbvGr\", \"GrLivArea\", \"FullBath\"\n",
    "]\n",
    "cat_cols = [\"Neighborhood\"]\n",
    "\n",
    "# แปลง numeric เป็นตัวเลข (กันพังถ้ามีสตริงหลงมา)\n",
    "for c in numeric_int_cols:\n",
    "    X[c] = pd.to_numeric(X[c], errors=\"coerce\")\n",
    "\n",
    "# Neighborhood เป็น string\n",
    "X[cat_cols] = X[cat_cols].astype(str)\n",
    "\n",
    "# 4) Basic sanity clips (ช่วยให้ dropdown/front-end มี guardrail)\n",
    "X[\"OverallQual\"] = X[\"OverallQual\"].clip(1, 10)\n",
    "X[\"GarageCars\"]  = X[\"GarageCars\"].clip(0, 4)\n",
    "X[\"FullBath\"]    = X[\"FullBath\"].clip(lower=0)\n",
    "X[\"Fireplaces\"]  = X[\"Fireplaces\"].clip(lower=0)\n",
    "X[\"BedroomAbvGr\"]= X[\"BedroomAbvGr\"].clip(lower=0)\n",
    "X[\"TotalBsmtSF\"] = X[\"TotalBsmtSF\"].clip(lower=0)\n",
    "X[\"GrLivArea\"]   = X[\"GrLivArea\"].clip(lower=0)\n",
    "X[\"LotArea\"]     = X[\"LotArea\"].clip(lower=0)\n",
    "\n",
    "# 5) Preprocessor\n",
    "num_transformer = Pipeline(steps=[\n",
    "    (\"imputer\", SimpleImputer(strategy=\"median\")),\n",
    "    (\"scaler\", StandardScaler())\n",
    "])\n",
    "\n",
    "cat_transformer = Pipeline(steps=[\n",
    "    (\"imputer\", SimpleImputer(strategy=\"most_frequent\")),\n",
    "    (\"encoder\", OneHotEncoder(handle_unknown=\"ignore\"))\n",
    "])\n",
    "\n",
    "preprocessor = ColumnTransformer(\n",
    "    transformers=[\n",
    "        (\"num\", num_transformer, numeric_int_cols),\n",
    "        (\"cat\", cat_transformer, cat_cols)\n",
    "    ]\n",
    ")\n",
    "\n",
    "# 6) Model\n",
    "model = RidgeCV(alphas=[0.1, 1.0, 10.0], cv=5)\n",
    "\n",
    "pipeline = Pipeline(steps=[\n",
    "    (\"preprocessor\", preprocessor),\n",
    "    (\"model\", model)\n",
    "])\n",
    "\n",
    "# 7) 10-fold CV score (R^2)\n",
    "cv = KFold(n_splits=10, shuffle=True, random_state=42)\n",
    "cv_scores = cross_val_score(pipeline, X, y, cv=cv, scoring=\"r2\")\n",
    "print(f\"10-fold R^2: mean={cv_scores.mean():.3f}, std={cv_scores.std():.3f}\")\n",
    "\n",
    "# 8) Hold-out test (optional แต่ช่วยเช็ค over/underfit)\n",
    "X_train, X_test, y_train, y_test = train_test_split(\n",
    "    X, y, test_size=0.2, random_state=42\n",
    ")\n",
    "pipeline.fit(X_train, y_train)\n",
    "pred_train = pipeline.predict(X_train)\n",
    "pred_test  = pipeline.predict(X_test)\n",
    "\n",
    "rmse = lambda a,b: np.sqrt(((a-b)**2).mean())\n",
    "\n",
    "print(f\"Train R^2: {r2_score(y_train, pred_train):.3f}\")\n",
    "print(f\"Test  R^2: {r2_score(y_test,  pred_test):.3f}\")\n",
    "print(f\"MAE: {mean_absolute_error(y_test, pred_test):.2f}\")\n",
    "print(f\"RMSE: {rmse(y_test, pred_test):.2f}\")\n",
    "\n",
    "# 9) Fit on all data & save\n",
    "pipeline.fit(X, y)\n",
    "joblib.dump(pipeline, \"house_price_pipeline_9f_cv10.joblib\")\n",
    "print(\"✅ Saved: house_price_pipeline_9f_cv10.joblib\")\n",
    "\n",
    "# (Optional) ดูชื่อฟีเจอร์หลังแปลงแล้ว\n",
    "feat_names = pipeline.named_steps[\"preprocessor\"].get_feature_names_out()\n",
    "print(\"Features after transform:\", len(feat_names))\n",
    "print(feat_names[:15])\n"
   ]
  }
 ],
 "metadata": {
  "kernelspec": {
   "display_name": "Python 3",
   "language": "python",
   "name": "python3"
  },
  "language_info": {
   "codemirror_mode": {
    "name": "ipython",
    "version": 3
   },
   "file_extension": ".py",
   "mimetype": "text/x-python",
   "name": "python",
   "nbconvert_exporter": "python",
   "pygments_lexer": "ipython3",
   "version": "3.13.5"
  }
 },
 "nbformat": 4,
 "nbformat_minor": 5
}
